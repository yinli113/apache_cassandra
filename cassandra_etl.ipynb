{
 "cells": [
  {
   "cell_type": "markdown",
   "metadata": {},
   "source": [
    "#  ETL with Apache Cassandra\n",
    "\n",
    "## This project is to work with the CSV file titled <font color=red>event_datafile_new.csv</font>, located within the Workspace directory.  The event_datafile_new.csv contains the following columns: \n",
    "- artist \n",
    "- firstName of user\n",
    "- gender of user\n",
    "- item number in session\n",
    "- last name of user\n",
    "- length of the song\n",
    "- level (paid or free song)\n",
    "- location of the user\n",
    "- sessionId\n",
    "- song title\n",
    "- userId\n",
    "\n",
    "The image below is a screenshot of what the denormalized data should appear like in the <font color=red>**event_datafile_new.csv**</font> after the code above is run:<br>\n",
    "\n",
    "<img src=\"images/image_event_datafile_new.jpg\">"
   ]
  },
  {
   "cell_type": "markdown",
   "metadata": {},
   "source": [
    "### Import Python packages"
   ]
  },
  {
   "cell_type": "code",
   "execution_count": 1,
   "metadata": {},
   "outputs": [],
   "source": [
    "import pandas as pd\n",
    "import cassandra\n",
    "import re\n",
    "import os\n",
    "import glob\n",
    "import numpy as np\n",
    "import json\n",
    "import csv"
   ]
  },
  {
   "cell_type": "markdown",
   "metadata": {},
   "source": [
    "#### Creating list of filepaths to process original event csv data files"
   ]
  },
  {
   "cell_type": "code",
   "execution_count": 2,
   "metadata": {},
   "outputs": [],
   "source": [
    "filepath = os.getcwd() + '/event_data'\n",
    "\n",
    "for root, dirs, files in os.walk(filepath):\n",
    "    file_path_list = glob.glob(os.path.join(root,'*'))"
   ]
  },
  {
   "cell_type": "markdown",
   "metadata": {},
   "source": [
    "#### Processing the files to create the data file csv that will be used for Apache Casssandra tables"
   ]
  },
  {
   "cell_type": "code",
   "execution_count": 3,
   "metadata": {},
   "outputs": [],
   "source": [
    "full_data_rows_list = []\n",
    "for f in file_path_list:\n",
    " \n",
    "    with open(f, 'r', encoding = 'utf8', newline='') as csvfile:\n",
    "        csvreader = csv.reader(csvfile) \n",
    "        next(csvreader)\n",
    "               \n",
    "        for line in csvreader:\n",
    "            #print(line)\n",
    "            full_data_rows_list.append(line) \n",
    "            \n",
    "# creating a smaller event data csv file called event_datafile_full csv that will be used to insert data into the \\\n",
    "# Apache Cassandra tables\n",
    "csv.register_dialect('myDialect', quoting=csv.QUOTE_ALL, skipinitialspace=True)\n",
    "\n",
    "with open('event_datafile_new.csv', 'w', encoding = 'utf8', newline='') as f:\n",
    "    writer = csv.writer(f, dialect='myDialect')\n",
    "    writer.writerow(['artist','firstName','gender','itemInSession','lastName','length',\\\n",
    "                'level','location','sessionId','song','userId'])\n",
    "    for row in full_data_rows_list:\n",
    "        if (row[0] == ''):\n",
    "            continue\n",
    "        writer.writerow((row[0], row[2], row[3], row[4], row[5], row[6], row[7], row[8], row[12], row[13], row[16]))\n"
   ]
  },
  {
   "cell_type": "code",
   "execution_count": 4,
   "metadata": {},
   "outputs": [
    {
     "name": "stdout",
     "output_type": "stream",
     "text": [
      "6821\n"
     ]
    }
   ],
   "source": [
    "# check the number of rows in your csv file\n",
    "with open('event_datafile_new.csv', 'r', encoding = 'utf8') as f:\n",
    "    print(sum(1 for line in f))"
   ]
  },
  {
   "cell_type": "markdown",
   "metadata": {},
   "source": [
    "## Begin writing your Apache Cassandra code in the cells below"
   ]
  },
  {
   "cell_type": "markdown",
   "metadata": {},
   "source": [
    "#### Creating a Cluster"
   ]
  },
  {
   "cell_type": "code",
   "execution_count": 5,
   "metadata": {},
   "outputs": [],
   "source": [
    "# make a connection to a Cassandra instance of local machine (127.0.0.1)\n",
    "\n",
    "from cassandra.cluster import Cluster\n",
    "try: \n",
    "    cluster = Cluster(['127.0.0.1']) \n",
    "    session = cluster.connect()\n",
    "except Exception as e:\n",
    "    print(e)\n",
    "\n",
    "# establish connection and begin executing queries\n",
    "session = cluster.connect()"
   ]
  },
  {
   "cell_type": "markdown",
   "metadata": {},
   "source": [
    "#### Create Keyspace"
   ]
  },
  {
   "cell_type": "code",
   "execution_count": 6,
   "metadata": {},
   "outputs": [],
   "source": [
    "try:\n",
    "    session.execute(\"\"\"\n",
    "    CREATE KEYSPACE IF NOT EXISTS event_datafile_new \n",
    "    WITH REPLICATION = \n",
    "    { 'class' : 'SimpleStrategy', 'replication_factor' : 1 }\"\"\"\n",
    ")\n",
    "\n",
    "except Exception as e:\n",
    "    print(e)"
   ]
  },
  {
   "cell_type": "markdown",
   "metadata": {},
   "source": [
    "#### Set Keyspace"
   ]
  },
  {
   "cell_type": "code",
   "execution_count": 7,
   "metadata": {},
   "outputs": [],
   "source": [
    "# Set KEYSPACE to the keyspace specified above\n",
    "try:\n",
    "    session.set_keyspace('event_datafile_new')\n",
    "except Exception as e:\n",
    "    print(e)"
   ]
  },
  {
   "cell_type": "markdown",
   "metadata": {},
   "source": [
    "## Create queries to ask the following three questions of the data\n",
    "\n",
    "### 1. Give me the artist, song title and song's length in the music app history that was heard during  sessionId = 338, and itemInSession  = 4\n",
    "\n",
    "\n",
    "### 2. Give me only the following: name of artist, song (sorted by itemInSession) and user (first and last name) for userid = 10, sessionid = 182\n",
    "    \n",
    "\n",
    "### 3. Give me every user name (first and last) in my music app history who listened to the song 'All Hands Against His Own'\n",
    "\n",
    "\n"
   ]
  },
  {
   "cell_type": "markdown",
   "metadata": {},
   "source": [
    "### Creating a table to answer question 1\n",
    "\n",
    "- The rows are uniquely identified by the combination of **sessionId** and **itemInSession**. This will allow me to efficiently retrieve data for a specific session and item in session"
   ]
  },
  {
   "cell_type": "code",
   "execution_count": 8,
   "metadata": {},
   "outputs": [],
   "source": [
    "# Creating a table to answer question 1\n",
    "new_query = \"CREATE TABLE IF NOT EXISTS song_library \"\n",
    "new_query = new_query + \"(sessionId INT, itemInSession INT,artist_name TEXT, song TEXT, length FLOAT, PRIMARY KEY (sessionId, itemInSession))\"\n",
    "try:\n",
    "    session.execute(new_query)\n",
    "except Exception as e:\n",
    "    print(e) "
   ]
  },
  {
   "cell_type": "markdown",
   "metadata": {},
   "source": [
    "### Creating a table to answer question 2\n",
    "\n",
    "- **userId** and **sessionId** are both used in the WHERE clause of query. Therefore, they should be part of the partition key to efficiently locate the data, sothat all data for a specific userId and sessionId is stored on the same node.\n",
    "\n",
    "- **itemInSession** can be a clustering column because it's used for sorting the results. With **itemInSession** as a clustering column, data within the same partition (specific userId and sessionId) is sorted by **itemInSession**."
   ]
  },
  {
   "cell_type": "code",
   "execution_count": 9,
   "metadata": {
    "scrolled": false
   },
   "outputs": [],
   "source": [
    "query2 = \"CREATE TABLE IF NOT EXISTS song_user(\\\n",
    "                                    sessionId INT,\\\n",
    "                                    userId INT,\\\n",
    "                                    itemInSession INT,\\\n",
    "                                    artist_name TEXT,\\\n",
    "                                    firstName TEXT,\\\n",
    "                                    lastName TEXT,\\\n",
    "                                    song TEXT,\\\n",
    "                                    PRIMARY KEY((sessionId, userId), itemInSession))\"\n",
    "\n",
    "try:\n",
    "    session.execute(query2)\n",
    "except Exception as e:\n",
    "    print(e)"
   ]
  },
  {
   "cell_type": "markdown",
   "metadata": {},
   "source": [
    "### Creating a table to answer question 3\n",
    "\n",
    "- Partition key: Using **song** as the partition key allows me to efficiently retrieve data for a specific song title because all rows with the same song will be stored together on the same node.\n",
    "\n",
    "- Clustering Column: using **userId** as a clustering column. This ensures that within a partition (for a specific song), data is sorted by userId. By including userId as a clustering column, I can efficiently retrieve the user names for a specific song."
   ]
  },
  {
   "cell_type": "code",
   "execution_count": 10,
   "metadata": {},
   "outputs": [],
   "source": [
    "# Creating a table to answer question 3\n",
    "query3 = \"CREATE TABLE IF NOT EXISTS user_library (\"\\\n",
    "        \"song TEXT,\"\\\n",
    "        \"firstName TEXT,\"\\\n",
    "        \"lastName TEXT,\"\\\n",
    "        \"sessionId INT,\"\\\n",
    "        \"itemInSession INT,\"\\\n",
    "         \"userId INT,\"\\\n",
    "         \"PRIMARY KEY (song, userId))\"\n",
    "\n",
    "try:\n",
    "    session.execute(query3)\n",
    "except Exception as e:\n",
    "    print(e)"
   ]
  },
  {
   "cell_type": "markdown",
   "metadata": {},
   "source": [
    "**convert a CSV file into a pandas DataFrame**"
   ]
  },
  {
   "cell_type": "code",
   "execution_count": 11,
   "metadata": {},
   "outputs": [],
   "source": [
    "# Read the CSV file into a DataFrame\n",
    "df = pd.read_csv('event_datafile_new.csv')\n",
    "\n",
    "# convert np.array into list\n",
    "i_list = []\n",
    "for i in df.values:\n",
    "    i = i.tolist()\n",
    "    i_list.append(i)"
   ]
  },
  {
   "cell_type": "markdown",
   "metadata": {},
   "source": [
    "**Insert data into the tables**"
   ]
  },
  {
   "cell_type": "code",
   "execution_count": 12,
   "metadata": {},
   "outputs": [],
   "source": [
    "# insert into table song_library\n",
    "for line1 in i_list:\n",
    "    query1 = \"INSERT INTO song_library (sessionId, itemInSession,artist_name, song, length) \"\n",
    "    query1 = query1 + \"VALUES (%s,%s,%s,%s,%s)\"\n",
    "\n",
    "    session.execute(query1, (line1[8], line1[3],line1[0], line1[9],line1[5]))"
   ]
  },
  {
   "cell_type": "code",
   "execution_count": 13,
   "metadata": {},
   "outputs": [],
   "source": [
    "# insert into table song_user\n",
    "for line2 in i_list:\n",
    "    query2 = \"INSERT INTO song_user (sessionId, userId, itemInSession, artist_name, firstName, lastName, song) \"\n",
    "    query2 = query2 + \"VALUES (%s,%s,%s,%s,%s,%s,%s)\"\n",
    "\n",
    "    session.execute(query2, (line2[8],line2[10],line2[3], line2[0],line2[1],line2[4],line2[9]))  "
   ]
  },
  {
   "cell_type": "code",
   "execution_count": 14,
   "metadata": {},
   "outputs": [],
   "source": [
    "# insert into table user_library\n",
    "for line3 in i_list: \n",
    "    query3 = \"INSERT INTO user_library (song, firstName, lastName, sessionId, itemInSession, userId) \"\n",
    "    query3 = query3 + \"VALUES (%s, %s, %s, %s, %s, %s)\"\n",
    "    \n",
    "    session.execute(query3, (line3[9],line3[1],line3[4],line3[8],line3[3],line2[10]))"
   ]
  },
  {
   "cell_type": "markdown",
   "metadata": {},
   "source": [
    "#### Do a SELECT to verify that the data have been inserted into each table"
   ]
  },
  {
   "cell_type": "code",
   "execution_count": 15,
   "metadata": {},
   "outputs": [
    {
     "name": "stdout",
     "output_type": "stream",
     "text": [
      "  artist_name                             song      length\n",
      "0   Faithless  Music Matters (Mark Knight Dub)  495.307312\n"
     ]
    }
   ],
   "source": [
    "# answering question1\n",
    "select_query_1 = \"SELECT artist_name, song, length FROM song_library WHERE sessionId = 338 and itemInSession = 4\"\n",
    "\n",
    "try:\n",
    "    rows = session.execute(select_query_1)\n",
    "except Exception as e:\n",
    "    print(e)\n",
    "\n",
    "# Create a list to hold the results\n",
    "result_data_1 = []\n",
    "\n",
    "for row in rows:\n",
    "    result_data_1.append([row.artist_name, row.song, row.length])\n",
    "\n",
    "# Create a Pandas DataFrame from the result_data list\n",
    "df_1 = pd.DataFrame(result_data_1, columns=[\"artist_name\", \"song\", \"length\"])\n",
    "\n",
    "# Print the DataFrame\n",
    "print(df_1)"
   ]
  },
  {
   "cell_type": "code",
   "execution_count": 16,
   "metadata": {},
   "outputs": [
    {
     "name": "stdout",
     "output_type": "stream",
     "text": [
      "         artist_name                                               song  \\\n",
      "0   Down To The Bone                                 Keep On Keepin' On   \n",
      "1       Three Drives                                        Greece 2000   \n",
      "2  Sebastien Tellier                                          Kilometer   \n",
      "3      Lonnie Gordon  Catch You Baby (Steve Pitron & Max Sanna Radio...   \n",
      "\n",
      "  firstName lastName  \n",
      "0    Sylvie     Cruz  \n",
      "1    Sylvie     Cruz  \n",
      "2    Sylvie     Cruz  \n",
      "3    Sylvie     Cruz  \n"
     ]
    }
   ],
   "source": [
    "# answering question2\n",
    "select_query_2 = \"SELECT artist_name, song, firstName, lastName FROM song_user WHERE userId = 10 AND sessionId = 182\"\n",
    "\n",
    "try:\n",
    "    rows = session.execute(select_query_2)\n",
    "except Exception as e:\n",
    "    print(e)\n",
    "\n",
    "# Create a list to hold the results\n",
    "result_data_2 = []\n",
    "\n",
    "for row in rows:\n",
    "    result_data_2.append([row.artist_name, row.song, row.firstname, row.lastname])\n",
    "\n",
    "# Create a Pandas DataFrame from the result_data list\n",
    "df_2 = pd.DataFrame(result_data_2, columns=[\"artist_name\", \"song\", \"firstName\", \"lastName\"])\n",
    "\n",
    "# Print the DataFrame\n",
    "print(df_2)"
   ]
  },
  {
   "cell_type": "code",
   "execution_count": 17,
   "metadata": {},
   "outputs": [
    {
     "name": "stdout",
     "output_type": "stream",
     "text": [
      "  firstName lastName\n",
      "0      Sara  Johnson\n"
     ]
    }
   ],
   "source": [
    "# answering question3\n",
    "select_query_3 = \"SELECT firstname, lastname FROM user_library WHERE song = 'All Hands Against His Own' ALLOW FILTERING\"\n",
    "try:\n",
    "    rows = session.execute(select_query_3)\n",
    "except Exception as e:\n",
    "    print(e)\n",
    "\n",
    "# Create a list to hold the results\n",
    "result_data_3 = []\n",
    "\n",
    "for row in rows:\n",
    "    result_data_3.append([row.firstname, row.lastname])\n",
    "\n",
    "# Create a Pandas DataFrame from the result_data list\n",
    "df_3 = pd.DataFrame(result_data_3, columns=[\"firstName\", \"lastName\"])\n",
    "\n",
    "# Print the DataFrame\n",
    "print(df_3)"
   ]
  },
  {
   "cell_type": "markdown",
   "metadata": {},
   "source": [
    "### Drop the tables before closing out the sessions"
   ]
  },
  {
   "cell_type": "code",
   "execution_count": 19,
   "metadata": {},
   "outputs": [],
   "source": [
    "song_library_table_drop = \"DROP TABLE IF EXISTS song_library\"\n",
    "song_user_table_drop = \"DROP TABLE IF EXISTS song_user\"\n",
    "user_library_table_drop = \"DROP TABLE IF EXISTS user_library\"\n",
    "    \n",
    "drop_table_queries = [\n",
    "        song_library_table_drop,\n",
    "        song_user_table_drop,\n",
    "        user_library_table_drop\n",
    "]\n",
    "\n",
    "for query in drop_table_queries:\n",
    "    try:\n",
    "        session.execute(query)\n",
    "    except Exception as e:\n",
    "        print(e)"
   ]
  },
  {
   "cell_type": "markdown",
   "metadata": {},
   "source": [
    "### Close the session and cluster connection¶"
   ]
  },
  {
   "cell_type": "code",
   "execution_count": 20,
   "metadata": {},
   "outputs": [],
   "source": [
    "session.shutdown()\n",
    "cluster.shutdown()"
   ]
  },
  {
   "cell_type": "code",
   "execution_count": null,
   "metadata": {},
   "outputs": [],
   "source": []
  }
 ],
 "metadata": {
  "kernelspec": {
   "display_name": "Python 3",
   "language": "python",
   "name": "python3"
  },
  "language_info": {
   "codemirror_mode": {
    "name": "ipython",
    "version": 3
   },
   "file_extension": ".py",
   "mimetype": "text/x-python",
   "name": "python",
   "nbconvert_exporter": "python",
   "pygments_lexer": "ipython3",
   "version": "3.6.3"
  }
 },
 "nbformat": 4,
 "nbformat_minor": 2
}
